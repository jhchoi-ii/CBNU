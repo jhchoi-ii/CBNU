{
  "nbformat": 4,
  "nbformat_minor": 0,
  "metadata": {
    "colab": {
      "provenance": []
    },
    "kernelspec": {
      "name": "python3",
      "display_name": "Python 3"
    },
    "language_info": {
      "name": "python"
    }
  },
  "cells": [
    {
      "cell_type": "code",
      "execution_count": null,
      "metadata": {
        "id": "7-0CDYh9XE7g"
      },
      "outputs": [],
      "source": [
        "import numpy as np\n",
        "import matplotlib.pyplot as plt\n",
        "import pandas as pd"
      ]
    },
    {
      "cell_type": "code",
      "source": [],
      "metadata": {
        "id": "W9ez1j_5k1qz"
      },
      "execution_count": null,
      "outputs": []
    },
    {
      "cell_type": "code",
      "source": [],
      "metadata": {
        "id": "DnkkMDCTk19r"
      },
      "execution_count": null,
      "outputs": []
    },
    {
      "cell_type": "code",
      "source": [
        "#DATA : https://github.com/mwitiderrick/stockprice\n",
        "dataset_train = pd.read_csv('NSE-TATAGLOBAL.csv')\n",
        "dataset_train.head()"
      ],
      "metadata": {
        "colab": {
          "base_uri": "https://localhost:8080/",
          "height": 206
        },
        "id": "cLxYHRabXOW6",
        "outputId": "698f2bba-dbbd-4d16-b31b-02389e775534"
      },
      "execution_count": null,
      "outputs": [
        {
          "output_type": "execute_result",
          "data": {
            "text/plain": [
              "         Date    Open    High     Low    Last   Close  Total Trade Quantity  \\\n",
              "0  2018-09-28  234.05  235.95  230.20  233.50  233.75               3069914   \n",
              "1  2018-09-27  234.55  236.80  231.10  233.80  233.25               5082859   \n",
              "2  2018-09-26  240.00  240.00  232.50  235.00  234.25               2240909   \n",
              "3  2018-09-25  233.30  236.75  232.00  236.25  236.10               2349368   \n",
              "4  2018-09-24  233.55  239.20  230.75  234.00  233.30               3423509   \n",
              "\n",
              "   Turnover (Lacs)  \n",
              "0          7162.35  \n",
              "1         11859.95  \n",
              "2          5248.60  \n",
              "3          5503.90  \n",
              "4          7999.55  "
            ],
            "text/html": [
              "\n",
              "  <div id=\"df-e5606114-565f-41da-bf32-5681c3f76765\">\n",
              "    <div class=\"colab-df-container\">\n",
              "      <div>\n",
              "<style scoped>\n",
              "    .dataframe tbody tr th:only-of-type {\n",
              "        vertical-align: middle;\n",
              "    }\n",
              "\n",
              "    .dataframe tbody tr th {\n",
              "        vertical-align: top;\n",
              "    }\n",
              "\n",
              "    .dataframe thead th {\n",
              "        text-align: right;\n",
              "    }\n",
              "</style>\n",
              "<table border=\"1\" class=\"dataframe\">\n",
              "  <thead>\n",
              "    <tr style=\"text-align: right;\">\n",
              "      <th></th>\n",
              "      <th>Date</th>\n",
              "      <th>Open</th>\n",
              "      <th>High</th>\n",
              "      <th>Low</th>\n",
              "      <th>Last</th>\n",
              "      <th>Close</th>\n",
              "      <th>Total Trade Quantity</th>\n",
              "      <th>Turnover (Lacs)</th>\n",
              "    </tr>\n",
              "  </thead>\n",
              "  <tbody>\n",
              "    <tr>\n",
              "      <th>0</th>\n",
              "      <td>2018-09-28</td>\n",
              "      <td>234.05</td>\n",
              "      <td>235.95</td>\n",
              "      <td>230.20</td>\n",
              "      <td>233.50</td>\n",
              "      <td>233.75</td>\n",
              "      <td>3069914</td>\n",
              "      <td>7162.35</td>\n",
              "    </tr>\n",
              "    <tr>\n",
              "      <th>1</th>\n",
              "      <td>2018-09-27</td>\n",
              "      <td>234.55</td>\n",
              "      <td>236.80</td>\n",
              "      <td>231.10</td>\n",
              "      <td>233.80</td>\n",
              "      <td>233.25</td>\n",
              "      <td>5082859</td>\n",
              "      <td>11859.95</td>\n",
              "    </tr>\n",
              "    <tr>\n",
              "      <th>2</th>\n",
              "      <td>2018-09-26</td>\n",
              "      <td>240.00</td>\n",
              "      <td>240.00</td>\n",
              "      <td>232.50</td>\n",
              "      <td>235.00</td>\n",
              "      <td>234.25</td>\n",
              "      <td>2240909</td>\n",
              "      <td>5248.60</td>\n",
              "    </tr>\n",
              "    <tr>\n",
              "      <th>3</th>\n",
              "      <td>2018-09-25</td>\n",
              "      <td>233.30</td>\n",
              "      <td>236.75</td>\n",
              "      <td>232.00</td>\n",
              "      <td>236.25</td>\n",
              "      <td>236.10</td>\n",
              "      <td>2349368</td>\n",
              "      <td>5503.90</td>\n",
              "    </tr>\n",
              "    <tr>\n",
              "      <th>4</th>\n",
              "      <td>2018-09-24</td>\n",
              "      <td>233.55</td>\n",
              "      <td>239.20</td>\n",
              "      <td>230.75</td>\n",
              "      <td>234.00</td>\n",
              "      <td>233.30</td>\n",
              "      <td>3423509</td>\n",
              "      <td>7999.55</td>\n",
              "    </tr>\n",
              "  </tbody>\n",
              "</table>\n",
              "</div>\n",
              "      <button class=\"colab-df-convert\" onclick=\"convertToInteractive('df-e5606114-565f-41da-bf32-5681c3f76765')\"\n",
              "              title=\"Convert this dataframe to an interactive table.\"\n",
              "              style=\"display:none;\">\n",
              "        \n",
              "  <svg xmlns=\"http://www.w3.org/2000/svg\" height=\"24px\"viewBox=\"0 0 24 24\"\n",
              "       width=\"24px\">\n",
              "    <path d=\"M0 0h24v24H0V0z\" fill=\"none\"/>\n",
              "    <path d=\"M18.56 5.44l.94 2.06.94-2.06 2.06-.94-2.06-.94-.94-2.06-.94 2.06-2.06.94zm-11 1L8.5 8.5l.94-2.06 2.06-.94-2.06-.94L8.5 2.5l-.94 2.06-2.06.94zm10 10l.94 2.06.94-2.06 2.06-.94-2.06-.94-.94-2.06-.94 2.06-2.06.94z\"/><path d=\"M17.41 7.96l-1.37-1.37c-.4-.4-.92-.59-1.43-.59-.52 0-1.04.2-1.43.59L10.3 9.45l-7.72 7.72c-.78.78-.78 2.05 0 2.83L4 21.41c.39.39.9.59 1.41.59.51 0 1.02-.2 1.41-.59l7.78-7.78 2.81-2.81c.8-.78.8-2.07 0-2.86zM5.41 20L4 18.59l7.72-7.72 1.47 1.35L5.41 20z\"/>\n",
              "  </svg>\n",
              "      </button>\n",
              "      \n",
              "  <style>\n",
              "    .colab-df-container {\n",
              "      display:flex;\n",
              "      flex-wrap:wrap;\n",
              "      gap: 12px;\n",
              "    }\n",
              "\n",
              "    .colab-df-convert {\n",
              "      background-color: #E8F0FE;\n",
              "      border: none;\n",
              "      border-radius: 50%;\n",
              "      cursor: pointer;\n",
              "      display: none;\n",
              "      fill: #1967D2;\n",
              "      height: 32px;\n",
              "      padding: 0 0 0 0;\n",
              "      width: 32px;\n",
              "    }\n",
              "\n",
              "    .colab-df-convert:hover {\n",
              "      background-color: #E2EBFA;\n",
              "      box-shadow: 0px 1px 2px rgba(60, 64, 67, 0.3), 0px 1px 3px 1px rgba(60, 64, 67, 0.15);\n",
              "      fill: #174EA6;\n",
              "    }\n",
              "\n",
              "    [theme=dark] .colab-df-convert {\n",
              "      background-color: #3B4455;\n",
              "      fill: #D2E3FC;\n",
              "    }\n",
              "\n",
              "    [theme=dark] .colab-df-convert:hover {\n",
              "      background-color: #434B5C;\n",
              "      box-shadow: 0px 1px 3px 1px rgba(0, 0, 0, 0.15);\n",
              "      filter: drop-shadow(0px 1px 2px rgba(0, 0, 0, 0.3));\n",
              "      fill: #FFFFFF;\n",
              "    }\n",
              "  </style>\n",
              "\n",
              "      <script>\n",
              "        const buttonEl =\n",
              "          document.querySelector('#df-e5606114-565f-41da-bf32-5681c3f76765 button.colab-df-convert');\n",
              "        buttonEl.style.display =\n",
              "          google.colab.kernel.accessAllowed ? 'block' : 'none';\n",
              "\n",
              "        async function convertToInteractive(key) {\n",
              "          const element = document.querySelector('#df-e5606114-565f-41da-bf32-5681c3f76765');\n",
              "          const dataTable =\n",
              "            await google.colab.kernel.invokeFunction('convertToInteractive',\n",
              "                                                     [key], {});\n",
              "          if (!dataTable) return;\n",
              "\n",
              "          const docLinkHtml = 'Like what you see? Visit the ' +\n",
              "            '<a target=\"_blank\" href=https://colab.research.google.com/notebooks/data_table.ipynb>data table notebook</a>'\n",
              "            + ' to learn more about interactive tables.';\n",
              "          element.innerHTML = '';\n",
              "          dataTable['output_type'] = 'display_data';\n",
              "          await google.colab.output.renderOutput(dataTable, element);\n",
              "          const docLink = document.createElement('div');\n",
              "          docLink.innerHTML = docLinkHtml;\n",
              "          element.appendChild(docLink);\n",
              "        }\n",
              "      </script>\n",
              "    </div>\n",
              "  </div>\n",
              "  "
            ]
          },
          "metadata": {},
          "execution_count": 3
        }
      ]
    },
    {
      "cell_type": "code",
      "source": [
        "training_set = dataset_train.iloc[:, 1:2].values"
      ],
      "metadata": {
        "id": "ZanZDaLFe98i"
      },
      "execution_count": null,
      "outputs": []
    },
    {
      "cell_type": "code",
      "source": [
        "from sklearn.preprocessing import MinMaxScaler\n",
        "\n",
        "#스케일링\n",
        "sc = MinMaxScaler(feature_range = (0, 1))\n",
        "training_set_scaled = sc.fit_transform(training_set)"
      ],
      "metadata": {
        "id": "b4KtjGzffBU-"
      },
      "execution_count": null,
      "outputs": []
    },
    {
      "cell_type": "code",
      "source": [
        "#슬라이딩 윈도우\n",
        "X_train = []\n",
        "y_train = []\n",
        "for i in range(60, 2035):\n",
        "    X_train.append(training_set_scaled[i-60:i, 0])\n",
        "    y_train.append(training_set_scaled[i, 0])\n",
        "X_train, y_train = np.array(X_train), np.array(y_train)\n",
        "\n",
        "X_train = np.reshape(X_train, (X_train.shape[0], X_train.shape[1], 1))"
      ],
      "metadata": {
        "id": "Dcw8NmeQfCpi"
      },
      "execution_count": null,
      "outputs": []
    },
    {
      "cell_type": "code",
      "source": [
        "#상관관계 확인\n",
        "\n",
        "corr = dataset_train.corr(method = 'pearson')\n",
        "print(corr)\n",
        "\n"
      ],
      "metadata": {
        "colab": {
          "base_uri": "https://localhost:8080/"
        },
        "id": "BoU5srCkprd4",
        "outputId": "5d75d82a-7d45-43e0-f0c2-a10388b15288"
      },
      "execution_count": null,
      "outputs": [
        {
          "output_type": "stream",
          "name": "stdout",
          "text": [
            "                          Open      High       Low      Last     Close  \\\n",
            "Open                  1.000000  0.999015  0.998825  0.997781  0.997840   \n",
            "High                  0.999015  1.000000  0.998773  0.999155  0.999194   \n",
            "Low                   0.998825  0.998773  1.000000  0.999051  0.999119   \n",
            "Last                  0.997781  0.999155  0.999051  1.000000  0.999961   \n",
            "Close                 0.997840  0.999194  0.999119  0.999961  1.000000   \n",
            "Total Trade Quantity  0.385951  0.406405  0.380621  0.399328  0.398911   \n",
            "Turnover (Lacs)       0.612877  0.630589  0.608502  0.624584  0.624213   \n",
            "\n",
            "                      Total Trade Quantity  Turnover (Lacs)  \n",
            "Open                              0.385951         0.612877  \n",
            "High                              0.406405         0.630589  \n",
            "Low                               0.380621         0.608502  \n",
            "Last                              0.399328         0.624584  \n",
            "Close                             0.398911         0.624213  \n",
            "Total Trade Quantity              1.000000         0.926931  \n",
            "Turnover (Lacs)                   0.926931         1.000000  \n"
          ]
        }
      ]
    },
    {
      "cell_type": "code",
      "source": [
        "from keras.models import Sequential\n",
        "from keras.layers import Dense\n",
        "from keras.layers import LSTM\n",
        "from keras.layers import Dropout"
      ],
      "metadata": {
        "id": "NRXrj2YyfFw4"
      },
      "execution_count": null,
      "outputs": []
    },
    {
      "cell_type": "code",
      "source": [
        "regressor = Sequential()\n",
        "\n",
        "regressor.add(LSTM(units = 50, return_sequences = True, input_shape = (X_train.shape[1], 1)))\n",
        "regressor.add(Dropout(0.2))\n",
        "\n",
        "regressor.add(LSTM(units = 50, return_sequences = True))\n",
        "regressor.add(Dropout(0.25))\n",
        "\n",
        "regressor.add(LSTM(units = 50, return_sequences = True))\n",
        "regressor.add(Dropout(0.25))\n",
        "\n",
        "regressor.add(LSTM(units = 50))\n",
        "regressor.add(Dropout(0.25))\n",
        "\n",
        "regressor.add(Dense(units = 1))\n",
        "\n",
        "regressor.compile(optimizer = 'adam', loss = 'mean_squared_error')\n",
        "\n",
        "regressor.fit(X_train, y_train, epochs = 100, batch_size = 32)"
      ],
      "metadata": {
        "colab": {
          "base_uri": "https://localhost:8080/"
        },
        "id": "pLbh_kQmfIIU",
        "outputId": "7b4ac0e0-3494-4301-c0ce-e09d77ba9938"
      },
      "execution_count": null,
      "outputs": [
        {
          "output_type": "stream",
          "name": "stdout",
          "text": [
            "Epoch 1/100\n",
            "62/62 [==============================] - 21s 215ms/step - loss: 0.0141\n",
            "Epoch 2/100\n",
            "62/62 [==============================] - 12s 194ms/step - loss: 0.0035\n",
            "Epoch 3/100\n",
            "62/62 [==============================] - 14s 219ms/step - loss: 0.0035\n",
            "Epoch 4/100\n",
            "62/62 [==============================] - 12s 194ms/step - loss: 0.0026\n",
            "Epoch 5/100\n",
            "62/62 [==============================] - 13s 206ms/step - loss: 0.0029\n",
            "Epoch 6/100\n",
            "62/62 [==============================] - 12s 195ms/step - loss: 0.0028\n",
            "Epoch 7/100\n",
            "62/62 [==============================] - 12s 194ms/step - loss: 0.0023\n",
            "Epoch 8/100\n",
            "62/62 [==============================] - 12s 195ms/step - loss: 0.0024\n",
            "Epoch 9/100\n",
            "62/62 [==============================] - 13s 213ms/step - loss: 0.0021\n",
            "Epoch 10/100\n",
            "62/62 [==============================] - 12s 194ms/step - loss: 0.0022\n",
            "Epoch 11/100\n",
            "62/62 [==============================] - 12s 196ms/step - loss: 0.0020\n",
            "Epoch 12/100\n",
            "62/62 [==============================] - 12s 194ms/step - loss: 0.0019\n",
            "Epoch 13/100\n",
            "62/62 [==============================] - 12s 196ms/step - loss: 0.0020\n",
            "Epoch 14/100\n",
            "62/62 [==============================] - 12s 194ms/step - loss: 0.0017\n",
            "Epoch 15/100\n",
            "62/62 [==============================] - 13s 214ms/step - loss: 0.0021\n",
            "Epoch 16/100\n",
            "62/62 [==============================] - 12s 195ms/step - loss: 0.0019\n",
            "Epoch 17/100\n",
            "62/62 [==============================] - 12s 194ms/step - loss: 0.0017\n",
            "Epoch 18/100\n",
            "62/62 [==============================] - 12s 194ms/step - loss: 0.0015\n",
            "Epoch 19/100\n",
            "62/62 [==============================] - 12s 195ms/step - loss: 0.0016\n",
            "Epoch 20/100\n",
            "62/62 [==============================] - 12s 195ms/step - loss: 0.0017\n",
            "Epoch 21/100\n",
            "62/62 [==============================] - 13s 215ms/step - loss: 0.0019\n",
            "Epoch 22/100\n",
            "62/62 [==============================] - 12s 194ms/step - loss: 0.0015\n",
            "Epoch 23/100\n",
            "62/62 [==============================] - 13s 214ms/step - loss: 0.0014\n",
            "Epoch 24/100\n",
            "62/62 [==============================] - 12s 194ms/step - loss: 0.0015\n",
            "Epoch 25/100\n",
            "62/62 [==============================] - 12s 196ms/step - loss: 0.0015\n",
            "Epoch 26/100\n",
            "62/62 [==============================] - 13s 213ms/step - loss: 0.0015\n",
            "Epoch 27/100\n",
            "62/62 [==============================] - 13s 212ms/step - loss: 0.0014\n",
            "Epoch 28/100\n",
            "62/62 [==============================] - 12s 195ms/step - loss: 0.0013\n",
            "Epoch 29/100\n",
            "62/62 [==============================] - 13s 216ms/step - loss: 0.0013\n",
            "Epoch 30/100\n",
            "62/62 [==============================] - 16s 263ms/step - loss: 0.0012\n",
            "Epoch 31/100\n",
            "62/62 [==============================] - 13s 214ms/step - loss: 0.0012\n",
            "Epoch 32/100\n",
            "62/62 [==============================] - 27s 439ms/step - loss: 0.0011\n",
            "Epoch 33/100\n",
            "62/62 [==============================] - 14s 226ms/step - loss: 0.0012\n",
            "Epoch 34/100\n",
            "62/62 [==============================] - 12s 195ms/step - loss: 0.0011\n",
            "Epoch 35/100\n",
            "62/62 [==============================] - 12s 195ms/step - loss: 0.0012\n",
            "Epoch 36/100\n",
            "62/62 [==============================] - 12s 195ms/step - loss: 0.0012\n",
            "Epoch 37/100\n",
            "62/62 [==============================] - 13s 212ms/step - loss: 0.0011\n",
            "Epoch 38/100\n",
            "62/62 [==============================] - 12s 197ms/step - loss: 0.0017\n",
            "Epoch 39/100\n",
            "62/62 [==============================] - 14s 231ms/step - loss: 0.0011\n",
            "Epoch 40/100\n",
            "62/62 [==============================] - 12s 196ms/step - loss: 9.3940e-04\n",
            "Epoch 41/100\n",
            "62/62 [==============================] - 12s 197ms/step - loss: 0.0011\n",
            "Epoch 42/100\n",
            "62/62 [==============================] - 12s 195ms/step - loss: 0.0010\n",
            "Epoch 43/100\n",
            "62/62 [==============================] - 13s 216ms/step - loss: 9.3574e-04\n",
            "Epoch 44/100\n",
            "62/62 [==============================] - 12s 197ms/step - loss: 9.1878e-04\n",
            "Epoch 45/100\n",
            "62/62 [==============================] - 15s 236ms/step - loss: 9.5909e-04\n",
            "Epoch 46/100\n",
            "62/62 [==============================] - 12s 196ms/step - loss: 9.4236e-04\n",
            "Epoch 47/100\n",
            "62/62 [==============================] - 12s 196ms/step - loss: 9.8256e-04\n",
            "Epoch 48/100\n",
            "62/62 [==============================] - 14s 229ms/step - loss: 9.8789e-04\n",
            "Epoch 49/100\n",
            "62/62 [==============================] - 13s 203ms/step - loss: 0.0010\n",
            "Epoch 50/100\n",
            "62/62 [==============================] - 12s 196ms/step - loss: 0.0010\n",
            "Epoch 51/100\n",
            "62/62 [==============================] - 12s 195ms/step - loss: 8.4811e-04\n",
            "Epoch 52/100\n",
            "62/62 [==============================] - 12s 199ms/step - loss: 9.1013e-04\n",
            "Epoch 53/100\n",
            "62/62 [==============================] - 12s 196ms/step - loss: 0.0010\n",
            "Epoch 54/100\n",
            "62/62 [==============================] - 13s 214ms/step - loss: 8.8648e-04\n",
            "Epoch 55/100\n",
            "62/62 [==============================] - 12s 195ms/step - loss: 8.2569e-04\n",
            "Epoch 56/100\n",
            "62/62 [==============================] - 12s 195ms/step - loss: 8.5739e-04\n",
            "Epoch 57/100\n",
            "62/62 [==============================] - 12s 194ms/step - loss: 9.8631e-04\n",
            "Epoch 58/100\n",
            "62/62 [==============================] - 12s 195ms/step - loss: 8.6160e-04\n",
            "Epoch 59/100\n",
            "62/62 [==============================] - 12s 198ms/step - loss: 9.3627e-04\n",
            "Epoch 60/100\n",
            "62/62 [==============================] - 13s 214ms/step - loss: 9.3664e-04\n",
            "Epoch 61/100\n",
            "62/62 [==============================] - 12s 195ms/step - loss: 9.1188e-04\n",
            "Epoch 62/100\n",
            "62/62 [==============================] - 12s 195ms/step - loss: 7.9573e-04\n",
            "Epoch 63/100\n",
            "62/62 [==============================] - 12s 194ms/step - loss: 8.2806e-04\n",
            "Epoch 64/100\n",
            "62/62 [==============================] - 12s 195ms/step - loss: 9.3312e-04\n",
            "Epoch 65/100\n",
            "62/62 [==============================] - 12s 197ms/step - loss: 7.4311e-04\n",
            "Epoch 66/100\n",
            "62/62 [==============================] - 13s 213ms/step - loss: 7.4310e-04\n",
            "Epoch 67/100\n",
            "62/62 [==============================] - 12s 197ms/step - loss: 7.5802e-04\n",
            "Epoch 68/100\n",
            "62/62 [==============================] - 13s 213ms/step - loss: 8.3451e-04\n",
            "Epoch 69/100\n",
            "62/62 [==============================] - 12s 197ms/step - loss: 8.1867e-04\n",
            "Epoch 70/100\n",
            "62/62 [==============================] - 12s 197ms/step - loss: 8.8416e-04\n",
            "Epoch 71/100\n",
            "62/62 [==============================] - 12s 197ms/step - loss: 9.0539e-04\n",
            "Epoch 72/100\n",
            "62/62 [==============================] - 14s 232ms/step - loss: 9.3879e-04\n",
            "Epoch 73/100\n",
            "62/62 [==============================] - 12s 194ms/step - loss: 7.7696e-04\n",
            "Epoch 74/100\n",
            "62/62 [==============================] - 12s 195ms/step - loss: 7.9921e-04\n",
            "Epoch 75/100\n",
            "62/62 [==============================] - 12s 195ms/step - loss: 8.0167e-04\n",
            "Epoch 76/100\n",
            "62/62 [==============================] - 12s 196ms/step - loss: 7.6265e-04\n",
            "Epoch 77/100\n",
            "62/62 [==============================] - 13s 203ms/step - loss: 7.5082e-04\n",
            "Epoch 78/100\n",
            "62/62 [==============================] - 13s 203ms/step - loss: 7.1495e-04\n",
            "Epoch 79/100\n",
            "62/62 [==============================] - 12s 196ms/step - loss: 7.9013e-04\n",
            "Epoch 80/100\n",
            "62/62 [==============================] - 12s 195ms/step - loss: 8.8240e-04\n",
            "Epoch 81/100\n",
            "62/62 [==============================] - 12s 196ms/step - loss: 7.2725e-04\n",
            "Epoch 82/100\n",
            "62/62 [==============================] - 12s 195ms/step - loss: 7.8603e-04\n",
            "Epoch 83/100\n",
            "62/62 [==============================] - 13s 213ms/step - loss: 8.8335e-04\n",
            "Epoch 84/100\n",
            "62/62 [==============================] - 12s 194ms/step - loss: 8.6511e-04\n",
            "Epoch 85/100\n",
            "62/62 [==============================] - 12s 194ms/step - loss: 7.8965e-04\n",
            "Epoch 86/100\n",
            "62/62 [==============================] - 12s 196ms/step - loss: 7.5904e-04\n",
            "Epoch 87/100\n",
            "62/62 [==============================] - 12s 195ms/step - loss: 7.7326e-04\n",
            "Epoch 88/100\n",
            "62/62 [==============================] - 12s 195ms/step - loss: 6.9570e-04\n",
            "Epoch 89/100\n",
            "62/62 [==============================] - 13s 215ms/step - loss: 6.9817e-04\n",
            "Epoch 90/100\n",
            "62/62 [==============================] - 12s 195ms/step - loss: 7.6795e-04\n",
            "Epoch 91/100\n",
            "62/62 [==============================] - 12s 196ms/step - loss: 7.1811e-04\n",
            "Epoch 92/100\n",
            "62/62 [==============================] - 13s 213ms/step - loss: 7.6888e-04\n",
            "Epoch 93/100\n",
            "62/62 [==============================] - 12s 194ms/step - loss: 6.8319e-04\n",
            "Epoch 94/100\n",
            "62/62 [==============================] - 12s 195ms/step - loss: 8.1238e-04\n",
            "Epoch 95/100\n",
            "62/62 [==============================] - 13s 213ms/step - loss: 7.0888e-04\n",
            "Epoch 96/100\n",
            "62/62 [==============================] - 15s 243ms/step - loss: 7.7655e-04\n",
            "Epoch 97/100\n",
            "62/62 [==============================] - 12s 194ms/step - loss: 7.8660e-04\n",
            "Epoch 98/100\n",
            "62/62 [==============================] - 12s 197ms/step - loss: 6.0852e-04\n",
            "Epoch 99/100\n",
            "62/62 [==============================] - 12s 196ms/step - loss: 8.4609e-04\n",
            "Epoch 100/100\n",
            "62/62 [==============================] - 12s 196ms/step - loss: 7.0084e-04\n"
          ]
        },
        {
          "output_type": "execute_result",
          "data": {
            "text/plain": [
              "<keras.callbacks.History at 0x7f94644d0910>"
            ]
          },
          "metadata": {},
          "execution_count": 8
        }
      ]
    },
    {
      "cell_type": "code",
      "source": [
        "dataset_test = pd.read_csv('tatatest.csv')\n",
        "real_stock_price = dataset_test.iloc[:, 1:2].values"
      ],
      "metadata": {
        "id": "pHUiVKDegiel"
      },
      "execution_count": null,
      "outputs": []
    },
    {
      "cell_type": "code",
      "source": [
        "\n",
        "dataset_total = pd.concat((dataset_train['Open'], dataset_test['Open']), axis = 0)\n",
        "inputs = dataset_total[len(dataset_total) - len(dataset_test) - 60:].values\n",
        "inputs = inputs.reshape(-1,1)\n",
        "inputs = sc.transform(inputs)\n",
        "X_test = []\n",
        "for i in range(60, 76):\n",
        "    X_test.append(inputs[i-60:i, 0])\n",
        "X_test = np.array(X_test)\n",
        "X_test = np.reshape(X_test, (X_test.shape[0], X_test.shape[1], 1))\n",
        "predicted_stock_price = regressor.predict(X_test)\n",
        "predicted_stock_price = sc.inverse_transform(predicted_stock_price)"
      ],
      "metadata": {
        "colab": {
          "base_uri": "https://localhost:8080/"
        },
        "id": "LDciaDBZglww",
        "outputId": "cc3082a1-9d14-4411-c7e7-b5e6713fab16"
      },
      "execution_count": null,
      "outputs": [
        {
          "output_type": "stream",
          "name": "stdout",
          "text": [
            "1/1 [==============================] - 2s 2s/step\n"
          ]
        }
      ]
    },
    {
      "cell_type": "code",
      "source": [
        "plt.plot(real_stock_price, color = 'black', label = 'TATA Stock Price')\n",
        "plt.plot(predicted_stock_price, color = 'green', label = 'Predicted TATA Stock Price')\n",
        "plt.title('TATA Stock Price Prediction')\n",
        "plt.xlabel('Time')\n",
        "plt.ylabel('TATA Stock Price')\n",
        "plt.legend()\n",
        "plt.show()"
      ],
      "metadata": {
        "colab": {
          "base_uri": "https://localhost:8080/",
          "height": 295
        },
        "id": "5B8os0Mhgqn8",
        "outputId": "00c575e2-009e-4e85-c70b-b2c189e9f103"
      },
      "execution_count": null,
      "outputs": [
        {
          "output_type": "display_data",
          "data": {
            "text/plain": [
              "<Figure size 432x288 with 1 Axes>"
            ],
            "image/png": "[encoded data removed]"
          },
          "metadata": {
            "needs_background": "light"
          }
        }
      ]
    }
  ]
}